{
 "cells": [
  {
   "cell_type": "code",
   "execution_count": 9,
   "metadata": {},
   "outputs": [],
   "source": [
    "import cv2\n",
    "import numpy as np\n",
    "def live_sketch(image):\n",
    "    gray_image=cv2.cvtColor(image,cv2.COLOR_BGR2GRAY)\n",
    "    blur_image=cv2.bilateralFilter(gray_image,9,10,10)\n",
    "   \n",
    "    edge_image=cv2.Canny(blur_image,10,78)\n",
    "    ret, mask = cv2.threshold(edge_image, 70, 255, cv2.THRESH_BINARY_INV)\n",
    "    return mask\n",
    "    #return edge_image\n",
    "    \n",
    "Vcap=cv2.VideoCapture(0)\n",
    "while True :\n",
    "    ret,ans=Vcap.read()\n",
    "    cv2.imshow('Live Sketch',live_sketch(ans))\n",
    "    if(cv2.waitKey(1))==13:\n",
    "        break\n",
    "Vcap.release()\n",
    "cv2.destroyAllWindows()"
   ]
  }
 ],
 "metadata": {
  "kernelspec": {
   "display_name": "Python 3",
   "language": "python",
   "name": "python3"
  },
  "language_info": {
   "codemirror_mode": {
    "name": "ipython",
    "version": 3
   },
   "file_extension": ".py",
   "mimetype": "text/x-python",
   "name": "python",
   "nbconvert_exporter": "python",
   "pygments_lexer": "ipython3",
   "version": "3.7.0"
  }
 },
 "nbformat": 4,
 "nbformat_minor": 2
}
